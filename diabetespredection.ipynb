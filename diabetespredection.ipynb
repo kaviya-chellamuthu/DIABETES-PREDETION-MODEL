{
  "nbformat": 4,
  "nbformat_minor": 0,
  "metadata": {
    "colab": {
      "provenance": [],
      "include_colab_link": true
    },
    "kernelspec": {
      "name": "python3",
      "display_name": "Python 3"
    },
    "language_info": {
      "name": "python"
    }
  },
  "cells": [
    {
      "cell_type": "markdown",
      "metadata": {
        "id": "view-in-github",
        "colab_type": "text"
      },
      "source": [
        "<a href=\"https://colab.research.google.com/github/kaviya-chellamuthu/DIABETES-PREDETION-MODEL/blob/main/diabetespredection.ipynb\" target=\"_parent\"><img src=\"https://colab.research.google.com/assets/colab-badge.svg\" alt=\"Open In Colab\"/></a>"
      ]
    },
    {
      "cell_type": "code",
      "source": [
        "import numpy as np\n",
        "import matplotlib.pyplot as plt\n",
        "import pandas as pd\n",
        "from sklearn.preprocessing import LabelEncoder\n",
        "from sklearn.model_selection import train_test_split\n",
        "from sklearn.preprocessing import StandardScaler\n",
        "from sklearn.ensemble import RandomForestClassifier\n",
        "from sklearn.tree import DecisionTreeClassifier\n",
        "from sklearn.metrics import classification_report,confusion_matrix\n",
        "from sklearn.neighbors import KNeighborsClassifier\n",
        "from sklearn.linear_model import LogisticRegression\n",
        "from sklearn.svm import SVC\n",
        "from sklearn.naive_bayes import GaussianNB"
      ],
      "metadata": {
        "id": "CBkTNzYq3GDc"
      },
      "execution_count": null,
      "outputs": []
    },
    {
      "cell_type": "code",
      "source": [
        "df=pd.read_csv('/content/diabetes (1).csv')"
      ],
      "metadata": {
        "id": "9QbGBTDp0Lf8"
      },
      "execution_count": null,
      "outputs": []
    },
    {
      "cell_type": "code",
      "source": [
        "df.info(verbose=True)"
      ],
      "metadata": {
        "colab": {
          "base_uri": "https://localhost:8080/"
        },
        "id": "im-Lfhdr0eHO",
        "outputId": "9e134607-b6c2-4fce-c3a0-bcddad4d7117"
      },
      "execution_count": null,
      "outputs": [
        {
          "output_type": "stream",
          "name": "stdout",
          "text": [
            "<class 'pandas.core.frame.DataFrame'>\n",
            "RangeIndex: 768 entries, 0 to 767\n",
            "Data columns (total 9 columns):\n",
            " #   Column                    Non-Null Count  Dtype  \n",
            "---  ------                    --------------  -----  \n",
            " 0   Pregnancies               768 non-null    int64  \n",
            " 1   Glucose                   768 non-null    int64  \n",
            " 2   BloodPressure             768 non-null    int64  \n",
            " 3   SkinThickness             768 non-null    int64  \n",
            " 4   Insulin                   768 non-null    int64  \n",
            " 5   BMI                       768 non-null    float64\n",
            " 6   DiabetesPedigreeFunction  768 non-null    float64\n",
            " 7   Age                       768 non-null    int64  \n",
            " 8   Outcome                   768 non-null    int64  \n",
            "dtypes: float64(2), int64(7)\n",
            "memory usage: 54.1 KB\n"
          ]
        }
      ]
    },
    {
      "cell_type": "code",
      "source": [
        "X =df.drop(['Glucose','Outcome'],axis=1)\n",
        "y = df['Outcome']\n",
        "X_train,X_test,y_train,y_test = train_test_split(X,y,test_size=1/3,random_state=42)"
      ],
      "metadata": {
        "id": "MBmRbCF41Z6b"
      },
      "execution_count": null,
      "outputs": []
    },
    {
      "cell_type": "code",
      "source": [
        "from sklearn.ensemble import RandomForestClassifier\n",
        "rf = RandomForestClassifier()\n",
        " \n",
        "rf.fit(X_train,y_train)\n",
        "pred2 = rf.predict(X_test)\n",
        "print('-----------------RANDOM FOREST----------------')\n",
        "print(classification_report(pred2,y_test))\n",
        "print(confusion_matrix(pred2,y_test))\n",
        "print('----------------------------------------------')"
      ],
      "metadata": {
        "colab": {
          "base_uri": "https://localhost:8080/"
        },
        "id": "0SuUpTmr1ysr",
        "outputId": "17748738-9227-4636-c53e-d00f93fe1cce"
      },
      "execution_count": null,
      "outputs": [
        {
          "output_type": "stream",
          "name": "stdout",
          "text": [
            "-----------------RANDOM FOREST----------------\n",
            "              precision    recall  f1-score   support\n",
            "\n",
            "           0       0.76      0.77      0.77       167\n",
            "           1       0.56      0.54      0.55        89\n",
            "\n",
            "    accuracy                           0.69       256\n",
            "   macro avg       0.66      0.66      0.66       256\n",
            "weighted avg       0.69      0.69      0.69       256\n",
            "\n",
            "[[129  38]\n",
            " [ 41  48]]\n",
            "----------------------------------------------\n"
          ]
        }
      ]
    },
    {
      "cell_type": "code",
      "source": [
        "dtree = DecisionTreeClassifier()\n",
        "dtree.fit(X_train,y_train)\n",
        "pred = dtree.predict(X_test)\n",
        "print('-----------------DECISION TREE----------------')\n",
        "print(classification_report(y_test,pred))\n",
        "print(confusion_matrix(y_test,pred))\n",
        "print('----------------------------------------------')"
      ],
      "metadata": {
        "colab": {
          "base_uri": "https://localhost:8080/"
        },
        "id": "u9EOcwuU3J4y",
        "outputId": "82c9c78b-bd4a-40c2-b6b4-3680e8c11bdb"
      },
      "execution_count": null,
      "outputs": [
        {
          "output_type": "stream",
          "name": "stdout",
          "text": [
            "-----------------DECISION TREE----------------\n",
            "              precision    recall  f1-score   support\n",
            "\n",
            "           0       0.70      0.71      0.70       170\n",
            "           1       0.40      0.40      0.40        86\n",
            "\n",
            "    accuracy                           0.60       256\n",
            "   macro avg       0.55      0.55      0.55       256\n",
            "weighted avg       0.60      0.60      0.60       256\n",
            "\n",
            "[[120  50]\n",
            " [ 52  34]]\n",
            "----------------------------------------------\n"
          ]
        }
      ]
    },
    {
      "cell_type": "code",
      "source": [
        "arr = []\n",
        "for i in range(1,40):\n",
        "    knn = KNeighborsClassifier(n_neighbors=i)\n",
        "    knn.fit(X_train,y_train)\n",
        "    pred = knn.predict(X_test)\n",
        "    arr.append(np.mean(pred != y_test))\n",
        "plt.figure(figsize=(12,5))\n",
        "plt.plot(range(1,40),arr,color = 'red',linestyle = 'dashed',marker = 'o',markerfacecolor = 'blue')\n",
        "plt.show()\n",
        "knn = KNeighborsClassifier(n_neighbors=15)\n",
        "knn.fit(X_train,y_train)\n",
        "pred = knn.predict(X_test)\n",
        "print('-----------------K NEAREST NEIGHBOURS------------------')\n",
        "print(classification_report(y_test,pred))\n",
        "print(confusion_matrix(y_test,pred))\n",
        "print('-------------------------------------------------------')"
      ],
      "metadata": {
        "colab": {
          "base_uri": "https://localhost:8080/",
          "height": 546
        },
        "id": "ydbZQzzI3Qsc",
        "outputId": "6de49fd7-fae4-4807-9001-a9f3bd6ebf82"
      },
      "execution_count": null,
      "outputs": [
        {
          "output_type": "display_data",
          "data": {
            "text/plain": [
              "<Figure size 864x360 with 1 Axes>"
            ],
            "image/png": "[encoded data removed]"
          },
          "metadata": {
            "needs_background": "light"
          }
        },
        {
          "output_type": "stream",
          "name": "stdout",
          "text": [
            "-----------------K NEAREST NEIGHBOURS------------------\n",
            "              precision    recall  f1-score   support\n",
            "\n",
            "           0       0.70      0.81      0.75       170\n",
            "           1       0.46      0.33      0.38        86\n",
            "\n",
            "    accuracy                           0.64       256\n",
            "   macro avg       0.58      0.57      0.57       256\n",
            "weighted avg       0.62      0.64      0.63       256\n",
            "\n",
            "[[137  33]\n",
            " [ 58  28]]\n",
            "-------------------------------------------------------\n"
          ]
        }
      ]
    },
    {
      "cell_type": "code",
      "source": [
        "log = LogisticRegression()\n",
        "log.fit(X_train,y_train)\n",
        "pre = log.predict(X_test)\n",
        "print('-----------------LOGESTIC REGRESSION-------------------')\n",
        "print(classification_report(y_test,pre))\n",
        "print(confusion_matrix(y_test,pre))\n",
        "print('-------------------------------------------------------')"
      ],
      "metadata": {
        "colab": {
          "base_uri": "https://localhost:8080/"
        },
        "id": "H5Pz09NY3bzd",
        "outputId": "910daae6-9f75-47f9-ce57-5f34287888f6"
      },
      "execution_count": null,
      "outputs": [
        {
          "output_type": "stream",
          "name": "stdout",
          "text": [
            "-----------------LOGESTIC REGRESSION-------------------\n",
            "              precision    recall  f1-score   support\n",
            "\n",
            "           0       0.72      0.79      0.76       170\n",
            "           1       0.49      0.40      0.44        86\n",
            "\n",
            "    accuracy                           0.66       256\n",
            "   macro avg       0.61      0.59      0.60       256\n",
            "weighted avg       0.64      0.66      0.65       256\n",
            "\n",
            "[[135  35]\n",
            " [ 52  34]]\n",
            "-------------------------------------------------------\n"
          ]
        },
        {
          "output_type": "stream",
          "name": "stderr",
          "text": [
            "/usr/local/lib/python3.8/dist-packages/sklearn/linear_model/_logistic.py:814: ConvergenceWarning: lbfgs failed to converge (status=1):\n",
            "STOP: TOTAL NO. of ITERATIONS REACHED LIMIT.\n",
            "\n",
            "Increase the number of iterations (max_iter) or scale the data as shown in:\n",
            "    https://scikit-learn.org/stable/modules/preprocessing.html\n",
            "Please also refer to the documentation for alternative solver options:\n",
            "    https://scikit-learn.org/stable/modules/linear_model.html#logistic-regression\n",
            "  n_iter_i = _check_optimize_result(\n"
          ]
        }
      ]
    },
    {
      "cell_type": "code",
      "source": [
        "plot1 = SVC()\n",
        "plot1.fit(X_train,y_train)\n",
        "pred1 = plot1.predict(X_test)\n",
        "print('-----------------SUPPORT VECTOR MACHINE----------------')\n",
        "print(classification_report(y_test,pred1))\n",
        "print(confusion_matrix(y_test,pred1))\n",
        "print('-------------------------------------------------------')"
      ],
      "metadata": {
        "colab": {
          "base_uri": "https://localhost:8080/"
        },
        "id": "DEXl-AER3jqV",
        "outputId": "f597913e-fac5-4d9c-d022-1468cbf410bc"
      },
      "execution_count": null,
      "outputs": [
        {
          "output_type": "stream",
          "name": "stdout",
          "text": [
            "-----------------SUPPORT VECTOR MACHINE----------------\n",
            "              precision    recall  f1-score   support\n",
            "\n",
            "           0       0.70      0.92      0.79       170\n",
            "           1       0.58      0.22      0.32        86\n",
            "\n",
            "    accuracy                           0.68       256\n",
            "   macro avg       0.64      0.57      0.56       256\n",
            "weighted avg       0.66      0.68      0.63       256\n",
            "\n",
            "[[156  14]\n",
            " [ 67  19]]\n",
            "-------------------------------------------------------\n"
          ]
        }
      ]
    },
    {
      "cell_type": "code",
      "source": [
        "classifier = GaussianNB()\n",
        "classifier.fit(X_train,y_train)\n",
        "Y_pred = classifier.predict(X_test)\n",
        "print('------------------NAIVE BAYES---------------------')\n",
        "print(classification_report(y_test,Y_pred))\n",
        "print(confusion_matrix(y_test,Y_pred))\n",
        "print('--------------------------------------------------')"
      ],
      "metadata": {
        "colab": {
          "base_uri": "https://localhost:8080/"
        },
        "id": "NMxLIqi-3okr",
        "outputId": "7f482f49-ae3a-4a9a-e4db-d461ebf1d2b5"
      },
      "execution_count": null,
      "outputs": [
        {
          "output_type": "stream",
          "name": "stdout",
          "text": [
            "------------------NAIVE BAYES---------------------\n",
            "              precision    recall  f1-score   support\n",
            "\n",
            "           0       0.75      0.78      0.76       170\n",
            "           1       0.52      0.48      0.50        86\n",
            "\n",
            "    accuracy                           0.68       256\n",
            "   macro avg       0.63      0.63      0.63       256\n",
            "weighted avg       0.67      0.68      0.67       256\n",
            "\n",
            "[[132  38]\n",
            " [ 45  41]]\n",
            "--------------------------------------------------\n"
          ]
        }
      ]
    },
    {
      "cell_type": "code",
      "source": [
        "#line chart\n",
        "\n",
        "import matplotlib.pyplot as plt\n",
        " \n",
        "x  = ['RandomForest','DecisionTree','KNeighbours','LogisticRegression','SupportVectorMachine','NavieBayes' ]\n",
        "y = [0,0,0,94,168,0]\n",
        "\n",
        "plt.plot(x, y, label=\"x and y 1.RF,2.DT,3.KNN,4.LR, 5.SVM,6.NB\")\n",
        "plt.plot()\n",
        "\n",
        "plt.xlabel(\"Models\")\n",
        "plt.ylabel(\"Accuracy\")\n",
        "plt.title(\"Models Performance \")\n",
        "plt.legend()\n",
        "plt.show()"
      ],
      "metadata": {
        "colab": {
          "base_uri": "https://localhost:8080/",
          "height": 295
        },
        "id": "-KcDeCqL500Q",
        "outputId": "88e4fd67-50a7-4cfe-abe9-52f7c86199ea"
      },
      "execution_count": null,
      "outputs": [
        {
          "output_type": "display_data",
          "data": {
            "text/plain": [
              "<Figure size 432x288 with 1 Axes>"
            ],
            "image/png": "[encoded data removed]"
          },
          "metadata": {
            "needs_background": "light"
          }
        }
      ]
    },
    {
      "cell_type": "code",
      "source": [
        "import itertools\n",
        "log = LogisticRegression()\n",
        "log.fit(X_train,y_train)\n",
        "y_proba = log.predict(X_test)\n",
        "print('-----------------LOGESTIC REGRESSION-------------------')\n",
        "print(classification_report(y_test,y_proba))\n",
        "print(confusion_matrix(y_test,y_proba))\n",
        "print('-------------------------------------------------------')\n",
        "#support vector machine\n",
        "conf=confusion_matrix(y_test,y_proba)"
      ],
      "metadata": {
        "colab": {
          "base_uri": "https://localhost:8080/"
        },
        "id": "8eiMElIJ57zU",
        "outputId": "d959c222-9858-4c5f-cebe-8766f205aa85"
      },
      "execution_count": null,
      "outputs": [
        {
          "output_type": "stream",
          "name": "stdout",
          "text": [
            "-----------------LOGESTIC REGRESSION-------------------\n",
            "              precision    recall  f1-score   support\n",
            "\n",
            "           0       0.72      0.79      0.76       170\n",
            "           1       0.49      0.40      0.44        86\n",
            "\n",
            "    accuracy                           0.66       256\n",
            "   macro avg       0.61      0.59      0.60       256\n",
            "weighted avg       0.64      0.66      0.65       256\n",
            "\n",
            "[[135  35]\n",
            " [ 52  34]]\n",
            "-------------------------------------------------------\n"
          ]
        },
        {
          "output_type": "stream",
          "name": "stderr",
          "text": [
            "/usr/local/lib/python3.8/dist-packages/sklearn/linear_model/_logistic.py:814: ConvergenceWarning: lbfgs failed to converge (status=1):\n",
            "STOP: TOTAL NO. of ITERATIONS REACHED LIMIT.\n",
            "\n",
            "Increase the number of iterations (max_iter) or scale the data as shown in:\n",
            "    https://scikit-learn.org/stable/modules/preprocessing.html\n",
            "Please also refer to the documentation for alternative solver options:\n",
            "    https://scikit-learn.org/stable/modules/linear_model.html#logistic-regression\n",
            "  n_iter_i = _check_optimize_result(\n"
          ]
        }
      ]
    },
    {
      "cell_type": "code",
      "source": [
        "classes = [0, 1]\n",
        "# plot confusion matrix\n",
        "plt.imshow(conf, interpolation='nearest', cmap=plt.cm.Greens)\n",
        "plt.title(\"Confusion Matrix\")\n",
        "plt.colorbar()\n",
        "tick_marks = np.arange(len(classes))\n",
        "plt.xticks(tick_marks, classes)\n",
        "plt.yticks(tick_marks, classes)\n",
        "\n",
        "fmt = 'd'\n",
        "thresh = conf.max() / 2.\n",
        "for i, j in itertools.product(range(conf.shape[0]), range(conf.shape[1])):\n",
        "    plt.text(j, i, format(conf[i, j], fmt),\n",
        "             horizontalalignment=\"center\",\n",
        "             color=\"white\" if conf[i, j] > thresh else \"black\")\n",
        "\n",
        "plt.tight_layout()\n",
        "plt.ylabel('True label')\n",
        "plt.xlabel('Predicted label')"
      ],
      "metadata": {
        "colab": {
          "base_uri": "https://localhost:8080/",
          "height": 328
        },
        "id": "fJwGsUgb6Svo",
        "outputId": "32f74048-7fb2-422f-8a45-064f727d6be5"
      },
      "execution_count": null,
      "outputs": [
        {
          "output_type": "execute_result",
          "data": {
            "text/plain": [
              "Text(0.5, 15.0, 'Predicted label')"
            ]
          },
          "metadata": {},
          "execution_count": 18
        },
        {
          "output_type": "display_data",
          "data": {
            "text/plain": [
              "<Figure size 432x288 with 2 Axes>"
            ],
            "image/png": "[encoded data removed]"
          },
          "metadata": {
            "needs_background": "light"
          }
        }
      ]
    },
    {
      "cell_type": "code",
      "source": [
        "TP = true_pos = 34\n",
        "TN = true_neg = 135\n",
        "FP = false_pos = 35\n",
        "FN = false_neg = 52"
      ],
      "metadata": {
        "id": "Q8FmD-PQ7N1y"
      },
      "execution_count": null,
      "outputs": []
    },
    {
      "cell_type": "code",
      "source": [
        "results = {}\n",
        "metric = \"ACC\"\n",
        "results[metric] = (TP + TN) / (TP + TN + FP + FN)\n",
        "print(f\"{metric} is {results[metric]: .3f}\")"
      ],
      "metadata": {
        "colab": {
          "base_uri": "https://localhost:8080/"
        },
        "id": "pVExkKvXBb5c",
        "outputId": "e4715730-826c-45b0-9a9f-a848fc4cd714"
      },
      "execution_count": null,
      "outputs": [
        {
          "output_type": "stream",
          "name": "stdout",
          "text": [
            "ACC is  0.660\n"
          ]
        }
      ]
    },
    {
      "cell_type": "code",
      "source": [
        "metric = \"TPR\"\n",
        "results[metric] = TP / (TP + FN)\n",
        "print(f\"{metric} is {results[metric]: .3f}\")"
      ],
      "metadata": {
        "colab": {
          "base_uri": "https://localhost:8080/"
        },
        "id": "BB_rXuWLBjlR",
        "outputId": "cc02e960-a83c-43fc-9f0e-1f89ba11e74e"
      },
      "execution_count": null,
      "outputs": [
        {
          "output_type": "stream",
          "name": "stdout",
          "text": [
            "TPR is  0.395\n"
          ]
        }
      ]
    },
    {
      "cell_type": "code",
      "source": [
        "metric = \"TNR\"\n",
        "results[metric] = TN / (TN + FP)\n",
        "print(f\"{metric} is {results[metric]: .3f}\")"
      ],
      "metadata": {
        "colab": {
          "base_uri": "https://localhost:8080/"
        },
        "id": "JZw9AwXLBv1P",
        "outputId": "9673c389-afa1-49d9-f482-f299cbbcf9c1"
      },
      "execution_count": null,
      "outputs": [
        {
          "output_type": "stream",
          "name": "stdout",
          "text": [
            "TNR is  0.794\n"
          ]
        }
      ]
    },
    {
      "cell_type": "code",
      "source": [
        "metric = \"PPV\"\n",
        "results[metric] = TP / (TP + FP)\n",
        "print(f\"{metric} is {results[metric]: .3f}\")"
      ],
      "metadata": {
        "colab": {
          "base_uri": "https://localhost:8080/"
        },
        "id": "-tBIUpSdB1B2",
        "outputId": "be77f595-8423-4461-b4c1-fc8edb6bcf4f"
      },
      "execution_count": null,
      "outputs": [
        {
          "output_type": "stream",
          "name": "stdout",
          "text": [
            "PPV is  0.493\n"
          ]
        }
      ]
    },
    {
      "cell_type": "code",
      "source": [
        "metric = \"NPV\"\n",
        "results[metric] = TN / (TN + FN)\n",
        "print(f\"{metric} is {results[metric]: .3f}\")"
      ],
      "metadata": {
        "colab": {
          "base_uri": "https://localhost:8080/"
        },
        "id": "7NqdvR7FB6__",
        "outputId": "6b7813e3-6b79-42d2-8e24-655685293b7a"
      },
      "execution_count": null,
      "outputs": [
        {
          "output_type": "stream",
          "name": "stdout",
          "text": [
            "NPV is  0.722\n"
          ]
        }
      ]
    },
    {
      "cell_type": "code",
      "source": [
        "metric = \"FPR\"\n",
        "results[metric] = FP / (FP + TN)\n",
        "print(f\"{metric} is {results[metric]: .3f}\")"
      ],
      "metadata": {
        "colab": {
          "base_uri": "https://localhost:8080/"
        },
        "id": "DYa9sG6LCCF6",
        "outputId": "01bcf261-2ebd-4c52-8f7f-643ec4f650a1"
      },
      "execution_count": null,
      "outputs": [
        {
          "output_type": "stream",
          "name": "stdout",
          "text": [
            "FPR is  0.206\n"
          ]
        }
      ]
    },
    {
      "cell_type": "code",
      "source": [
        "metric = \"F1\"\n",
        "results[metric] = 2 / (1 / results[\"PPV\"] + 1 / results[\"TPR\"])\n",
        "print(f\"{metric} is {results[metric]: .3f}\")"
      ],
      "metadata": {
        "colab": {
          "base_uri": "https://localhost:8080/"
        },
        "id": "2WWAT9MKCGo0",
        "outputId": "f33ebaa4-57d2-4e12-dd90-df6694678e78"
      },
      "execution_count": null,
      "outputs": [
        {
          "output_type": "stream",
          "name": "stdout",
          "text": [
            "F1 is  0.439\n"
          ]
        }
      ]
    },
    {
      "cell_type": "code",
      "source": [
        "metric = \"MCC\"\n",
        "num = TP * TN - FP * FN\n",
        "den = ((TP + FP) * (TP + FN) * (TN + FP) * (TN + FN)) ** 0.5\n",
        "results[metric] = num / den\n",
        "print(f\"{metric} is {results[metric]: .3f}\")"
      ],
      "metadata": {
        "colab": {
          "base_uri": "https://localhost:8080/"
        },
        "id": "ZbTTgjlRCS6H",
        "outputId": "15cb8b57-1f86-4f09-9d68-d3454f7d3045"
      },
      "execution_count": null,
      "outputs": [
        {
          "output_type": "stream",
          "name": "stdout",
          "text": [
            "MCC is  0.202\n"
          ]
        }
      ]
    },
    {
      "cell_type": "code",
      "source": [
        "FNR= FN/(FN+TP)\n",
        "print(FNR)"
      ],
      "metadata": {
        "colab": {
          "base_uri": "https://localhost:8080/"
        },
        "id": "7665Eje4CX6t",
        "outputId": "cde3fdb4-17ce-4111-8834-ec992cd47f9e"
      },
      "execution_count": null,
      "outputs": [
        {
          "output_type": "stream",
          "name": "stdout",
          "text": [
            "0.6046511627906976\n"
          ]
        }
      ]
    },
    {
      "cell_type": "code",
      "source": [
        "def get_roc_curve(y_test, y_proba, delta=0.1):\n",
        "   \n",
        "    thresh = list(np.arange(0, 1, delta)) + [1]\n",
        "    TPRs = []\n",
        "    FPRs = []\n",
        "    y_pred = np.empty(y_proba.shape)\n",
        "    for th in thresh:\n",
        "        y_pred[y_proba < th] = 0\n",
        "        y_pred[y_proba >= th] = 1\n",
        "        \n",
        "      \n",
        "        (TN, FP), (FN, TP) = get_confusion_matrix(y_test, y_pred)\n",
        "        \n",
        "        TPR = TP / (TP + FN)  \n",
        "        FPR = FP / (FP + TN)  \n",
        "        TPRs.append(TPR)\n",
        "        FPRs.append(FPR)\n",
        "    return FPRs, TPRs, thresh"
      ],
      "metadata": {
        "id": "eKTpItlqCgzH"
      },
      "execution_count": null,
      "outputs": []
    },
    {
      "cell_type": "code",
      "source": [
        "from sklearn import metrics\n",
        "FPRs, TPRs, _ = metrics.roc_curve(y_test, y_proba)"
      ],
      "metadata": {
        "id": "_p7TWizpCiaK"
      },
      "execution_count": null,
      "outputs": []
    },
    {
      "cell_type": "code",
      "source": [
        "plr=TPRs/FPRs\n",
        "print(plr)"
      ],
      "metadata": {
        "colab": {
          "base_uri": "https://localhost:8080/"
        },
        "id": "ZpzJ6_GBCnja",
        "outputId": "db4fd89c-ebb3-4292-f7f3-4b27bd5d6ced"
      },
      "execution_count": null,
      "outputs": [
        {
          "output_type": "stream",
          "name": "stdout",
          "text": [
            "[       nan 1.92026578 1.        ]\n"
          ]
        },
        {
          "output_type": "stream",
          "name": "stderr",
          "text": [
            "<ipython-input-27-713922fa280c>:1: RuntimeWarning: invalid value encountered in true_divide\n",
            "  plr=TPRs/FPRs\n"
          ]
        }
      ]
    },
    {
      "cell_type": "code",
      "source": [
        "plt.plot(FPRs, TPRs, color='red',\n",
        "         lw=2, label='ROC curve')\n",
        "plt.plot([0, 1], [0, 1], color='navy', lw=2, linestyle='--', label=\"Mean\")\n",
        "plt.xlim([-0.05, 1.0])\n",
        "plt.ylim([0.0, 1.05])\n",
        "plt.xlabel('False Positive Rate')\n",
        "plt.ylabel('True Positive Rate')\n",
        "plt.title(\"Scikit-learn's ROC curve\")\n",
        "plt.legend(loc=\"lower right\")\n",
        "plt.show()"
      ],
      "metadata": {
        "colab": {
          "base_uri": "https://localhost:8080/",
          "height": 295
        },
        "id": "ds414A1nCsC8",
        "outputId": "79dc98a6-4c98-44a2-aea1-630169aef6ae"
      },
      "execution_count": null,
      "outputs": [
        {
          "output_type": "display_data",
          "data": {
            "text/plain": [
              "<Figure size 432x288 with 1 Axes>"
            ],
            "image/png": "[encoded data removed]"
          },
          "metadata": {
            "needs_background": "light"
          }
        }
      ]
    },
    {
      "cell_type": "code",
      "source": [
        "lw=2\n",
        "import numpy as np\n",
        "import matplotlib.pyplot as plt\n",
        "from itertools import cycle\n",
        "import matplotlib.pyplot as plt\n",
        "from sklearn.metrics import roc_curve, auc\n",
        "\n",
        "fpr=[0.12,0.11,0.20,0.04,0.16,0.11,0.02]\n",
        "tpr=[0.96,0.94,0.96,0.97,0.96,0.96,0.97]\n",
        "roc_auc=[0.96,0.94,0.96,0.97,0.96,0.96,0.97]\n",
        "\n",
        "colors = cycle(['aqua', 'darkorange', 'cornflowerblue'])\n",
        "for i, color in zip(range(3), colors):\n",
        "    plt.plot(fpr[i], tpr[i], color=color, lw=lw,\n",
        "             label='ROC curve of class {0} (area = {1:0.2f})'\n",
        "             ''.format(i, roc_auc[i]))\n",
        "plt.plot([0, 1], [0, 1], 'k--', lw=lw)\n",
        "plt.xlim([0.0, 1.0])\n",
        "plt.ylim([0.0, 1.05])\n",
        "plt.xlabel('False Positive Rate')\n",
        "plt.ylabel('True Positive Rate')\n",
        "plt.title(' Receiver operating characteristic curve')\n",
        "plt.legend(loc=\"lower right\")\n",
        "plt.show()"
      ],
      "metadata": {
        "colab": {
          "base_uri": "https://localhost:8080/",
          "height": 295
        },
        "id": "-MqyHUCFC4Ud",
        "outputId": "67894556-d50f-4e4b-94b3-e4df0b98c78f"
      },
      "execution_count": null,
      "outputs": [
        {
          "output_type": "display_data",
          "data": {
            "text/plain": [
              "<Figure size 432x288 with 1 Axes>"
            ],
            "image/png": "[encoded data removed]"
          },
          "metadata": {
            "needs_background": "light"
          }
        }
      ]
    }
  ]
}